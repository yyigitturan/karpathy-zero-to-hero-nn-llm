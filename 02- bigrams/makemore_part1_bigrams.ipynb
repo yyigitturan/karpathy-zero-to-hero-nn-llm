{
 "cells": [
  {
   "cell_type": "code",
   "execution_count": 57,
   "metadata": {},
   "outputs": [],
   "source": [
    "import torch \n",
    "import torch.nn.functional as F\n",
    "from tqdm import notebook \n",
    "import random  \n",
    "import pandas as pd \n",
    "import matplotlib.pyplot as plt\n",
    "import numpy as np "
   ]
  },
  {
   "cell_type": "code",
   "execution_count": 3,
   "metadata": {},
   "outputs": [
    {
     "data": {
      "text/plain": [
       "['emma', 'olivia', 'ava', 'isabella', 'sophia']"
      ]
     },
     "execution_count": 3,
     "metadata": {},
     "output_type": "execute_result"
    }
   ],
   "source": [
    "words = open('names.txt', 'r').read().splitlines() \n",
    "words[:5] "
   ]
  },
  {
   "cell_type": "code",
   "execution_count": 4,
   "metadata": {},
   "outputs": [
    {
     "name": "stdout",
     "output_type": "stream",
     "text": [
      "Number of names:  32033\n"
     ]
    }
   ],
   "source": [
    "print(\"Number of names: \", len(words))"
   ]
  },
  {
   "cell_type": "code",
   "execution_count": 5,
   "metadata": {},
   "outputs": [
    {
     "data": {
      "text/plain": [
       "(2, 15)"
      ]
     },
     "execution_count": 5,
     "metadata": {},
     "output_type": "execute_result"
    }
   ],
   "source": [
    "min(len(w) for w in words), max(len(w) for w in words)"
   ]
  },
  {
   "cell_type": "code",
   "execution_count": 12,
   "metadata": {},
   "outputs": [],
   "source": [
    "chars = sorted(list(set(''.join(words)))) \n",
    "stoi = {s:i+1 for i, s in enumerate(chars)}  \n",
    "stoi['.'] = 0\n",
    "len(stoi)  \n",
    "itos = {i:s for s,i in stoi.items()} "
   ]
  },
  {
   "cell_type": "markdown",
   "metadata": {},
   "source": [
    "# Bigram Model"
   ]
  },
  {
   "cell_type": "code",
   "execution_count": 13,
   "metadata": {},
   "outputs": [],
   "source": [
    "# create dataset  \n",
    "X_bigram, Y_bigram = [], [] \n",
    "\n",
    "for word in words: \n",
    "    # Adding special token each word\n",
    "    chars = ['.'] + list(word) + ['.'] \n",
    "    for char_1, char_2 in zip(chars, chars[1:]): \n",
    "        ix_1 = stoi[char_1] \n",
    "        ix_2 = stoi[char_2]   \n",
    "\n",
    "        X_bigram.append(ix_1) \n",
    "        Y_bigram.append(ix_2) \n",
    "\n",
    "X_bigram = torch.tensor(X_bigram) \n",
    "Y_bigram = torch.tensor(Y_bigram) "
   ]
  },
  {
   "cell_type": "code",
   "execution_count": 14,
   "metadata": {},
   "outputs": [
    {
     "name": "stdout",
     "output_type": "stream",
     "text": [
      "tensor([ 0,  5, 13,  ..., 25, 26, 24])\n",
      "tensor([ 5, 13, 13,  ..., 26, 24,  0])\n"
     ]
    }
   ],
   "source": [
    "print(X_bigram) \n",
    "print(Y_bigram)"
   ]
  },
  {
   "cell_type": "code",
   "execution_count": null,
   "metadata": {},
   "outputs": [],
   "source": [
    "class BigramModel: \n",
    "    def __init__(self,\n",
    "                 num_features, \n",
    "                 num_out, \n",
    "                 num_epochs, \n",
    "                 learning_rate, \n",
    "                 logging=False, \n",
    "                 regularize=False, \n",
    "                 smooth_strength=None, \n",
    "                 seed=123, \n",
    "                 enable_tqdm=True,\n",
    "                 *args,\n",
    "                 **kwargs): \n",
    "        # Initializes BigramModel instance \n",
    "        self.num_features = num_features \n",
    "        self.num_out = num_out \n",
    "        self.num_epochs = num_epochs \n",
    "        self.learning_rate = learning_rate\n",
    "        self.logging = logging \n",
    "        self.regularize = regularize  \n",
    "        self.smooth_strength = smooth_strength \n",
    "        self.seed = seed \n",
    "        self.enable_tqdm = enable_tqdm \n",
    "        # Generating random weights based on a random seed\n",
    "        g = torch.Generator().manual_seed(seed)  \n",
    "        self.weights = torch.randn((num_features, num_out), generator=g)\n",
    "        self.weights.requires_grad = True\n",
    "\n",
    "    def __call__(self, x, y):  \n",
    "        \"\"\"makes a softmax forward pass and compute the NLL loss\"\"\"\n",
    "        # One hot encoding NN inputs \n",
    "        x_encoded = F.one_hot(x, num_classes=self.num_out).float() \n",
    "        # computing predictions for log-counts \n",
    "        logits = x_encoded @ self.weights \n",
    "        # retrieving counts \n",
    "        counts = logits.exp() \n",
    "        # computing probs for next character \n",
    "        probas = counts / counts.sum(1, keepdims=True)  \n",
    "\n",
    "        # computing loss \n",
    "        if self.regularize: \n",
    "            if self.smooth_strength is None: \n",
    "                raise ValueError(\"Regularization rate not specified\") \n",
    "            loss = -probas[torch.arange(x.shape[0]), y].log().mean() + self.smooth_strength * (self.weights**2).mean() \n",
    "        else: \n",
    "            loss = -probas[torch.arange(x.shape[0]), y].log().mean() \n",
    "        \n",
    "        return loss\n",
    "\n",
    "    def fit(self, x, y): \n",
    "        loss_per_epoch = {} \n",
    "        epoch_counter = notebook.tqdm(range(self.num_epochs)) if self.enable_tqdm else range(self.num_epochs)\n",
    "        for k in epoch_counter: \n",
    "            # making a forward pass and computing a loss \n",
    "            loss = self(x, y)  \n",
    "            loss_per_epoch[f\"epoch_{k+1}\"] = loss.item() \n",
    "            if self.logging:\n",
    "                print(f\"Epoch {k+1:03d}/{self.num_epochs:03d}: loss= {loss.item():.4f}\")\n",
    "            # setting gradients to zero \n",
    "            self.weights.grad = None \n",
    "            loss.backward() \n",
    "            # updating weights (SGD) \n",
    "            self.weights.data += -self.learning_rate * self.weights.grad\n",
    "        self.history = loss_per_epoch \n",
    "\n",
    "    def generate_sample(self, num_examples, itos): \n",
    "        g = torch.Generator().manual_seed(self.seed) \n",
    "        generated_names = [] \n",
    "        for i in range(num_examples): \n",
    "            out = [] \n",
    "            ix = 0  \n",
    "            while True: \n",
    "                # One hot encoding\n",
    "                x_encoded = F.one_hot(torch.tensor([ix]), num_classes=self.num_out).float()\n",
    "                # computing predictions\n",
    "                logits = x_encoded @ self.weights\n",
    "                counts = logits.exp()\n",
    "                probas = counts / counts.sum(1, keepdims=True)\n",
    "                # next character\n",
    "                ix = torch.multinomial(probas, num_samples=1, replacement=True, generator=g).item()\n",
    "                \n",
    "                out.append(itos[ix])\n",
    "                if ix == 0:  \n",
    "                    break\n",
    "            generated_names.append(''.join(out)[:-1])  \n",
    "        \n",
    "        return generated_names"
   ]
  },
  {
   "cell_type": "code",
   "execution_count": 16,
   "metadata": {},
   "outputs": [
    {
     "data": {
      "application/vnd.jupyter.widget-view+json": {
       "model_id": "c47bd4bb9792400b8895437311101c83",
       "version_major": 2,
       "version_minor": 0
      },
      "text/plain": [
       "  0%|          | 0/100 [00:00<?, ?it/s]"
      ]
     },
     "metadata": {},
     "output_type": "display_data"
    }
   ],
   "source": [
    "bigram_model = BigramModel(\n",
    "    num_features=27, \n",
    "    num_out=27,\n",
    "    num_epochs=100, \n",
    "    learning_rate=50, \n",
    "    logging=False, \n",
    "    regularize=True, \n",
    "    smooth_strength=0.01,\n",
    ")\n",
    "\n",
    "# Launching training process\n",
    "bigram_model.fit(X_bigram, Y_bigram)"
   ]
  },
  {
   "cell_type": "code",
   "execution_count": 18,
   "metadata": {},
   "outputs": [
    {
     "data": {
      "text/plain": [
       "['ayl',\n",
       " 'eeiey',\n",
       " 'viannmonind',\n",
       " 'pidouyra',\n",
       " 'jon',\n",
       " 'cerrdyanaya',\n",
       " 'kseli',\n",
       " 'peyussmon',\n",
       " 'zzolie',\n",
       " 'e']"
      ]
     },
     "execution_count": 18,
     "metadata": {},
     "output_type": "execute_result"
    }
   ],
   "source": [
    "# Generating 10 new examples\n",
    "bigram_model.generate_sample(num_examples=10, itos=itos)"
   ]
  },
  {
   "cell_type": "markdown",
   "metadata": {},
   "source": [
    "# Exercise 1"
   ]
  },
  {
   "cell_type": "markdown",
   "metadata": {},
   "source": [
    "## Trigram Model "
   ]
  },
  {
   "cell_type": "code",
   "execution_count": 19,
   "metadata": {},
   "outputs": [],
   "source": [
    "X_trigram, Y_trigram = [], []\n",
    "for word in words:\n",
    "    # Adding special token for each word\n",
    "    chars = ['.'] + list(word) + ['.']\n",
    "    for char_1, char_2, char_3 in zip(chars, chars[1:], chars[2:]):\n",
    "        # Getting the indices of a letter\n",
    "        ix_1 = stoi[char_1]\n",
    "        ix_2 = stoi[char_2]\n",
    "        ix_3 = stoi[char_3]\n",
    "        \n",
    "        # Adding letter indices to lists\n",
    "        X_trigram.append([ix_1, ix_2])\n",
    "        Y_trigram.append(ix_3)\n",
    "\n",
    "# Casting as PyTorch tensors\n",
    "X_trigram = torch.tensor(X_trigram)\n",
    "Y_trigram = torch.tensor(Y_trigram)"
   ]
  },
  {
   "cell_type": "code",
   "execution_count": 20,
   "metadata": {},
   "outputs": [
    {
     "name": "stdout",
     "output_type": "stream",
     "text": [
      "tensor([[ 0,  5],\n",
      "        [ 5, 13],\n",
      "        [13, 13],\n",
      "        ...,\n",
      "        [26, 25],\n",
      "        [25, 26],\n",
      "        [26, 24]])\n",
      "tensor([13, 13,  1,  ..., 26, 24,  0])\n"
     ]
    }
   ],
   "source": [
    "print(X_trigram) \n",
    "print(Y_trigram)"
   ]
  },
  {
   "cell_type": "code",
   "execution_count": 30,
   "metadata": {},
   "outputs": [],
   "source": [
    "class TrigramModel(BigramModel):\n",
    "    def __init__(self, *args, **kwargs):\n",
    "        \"\"\"Inherits initialization schema from BigramModel class.\"\"\"\n",
    "        super().__init__(*args, **kwargs)\n",
    "    \n",
    "    def __call__(self, x, y):\n",
    "        \"\"\"Makes a softmax forward pass and computes the NLL loss.\"\"\"\n",
    "        x_encoded = F.one_hot(x, num_classes=self.num_out).float().view(-1, self.num_features)\n",
    "        logits = x_encoded @ self.weights # predict log-counts\n",
    "        counts = logits.exp() # counts, equivalent to N\n",
    "        probas = counts / counts.sum(1, keepdims=True) # probabilities for next character\n",
    "        \n",
    "        if self.regularize:\n",
    "            if self.smooth_strength is None:\n",
    "                raise ValueError(\"Regularization rate not specified\")\n",
    "            loss = -probas[torch.arange(x.shape[0]), y].log().mean() + self.smooth_strength * (self.weights**2).mean()\n",
    "        else:\n",
    "            loss = -probas[torch.arange(x.shape[0]), y].log().mean()\n",
    "            \n",
    "        return loss\n",
    "    \n",
    "    def generate_sample(self, num_examples, itos):\n",
    "        \"\"\"Generates a sample with names from the NN.\"\"\"\n",
    "        generator = torch.Generator().manual_seed(self.seed)\n",
    "        generated_names = []\n",
    "        for i in range(num_examples):\n",
    "            out = []\n",
    "            # Initializing the starting sequence\n",
    "            context = [0, 0] \n",
    "            while True:\n",
    "                x_encoded = F.one_hot(torch.tensor([context]), num_classes=self.num_out).float().view(1, -1)\n",
    "                logits = x_encoded @ self.weights\n",
    "                counts = logits.exp()\n",
    "                probas = counts / counts.sum(1, keepdims=True)\n",
    "                \n",
    "                ix = torch.multinomial(\n",
    "                    probas, num_samples=1, replacement=True, generator=generator\n",
    "                ).item()\n",
    "                # Adding the predicted character and shifting\n",
    "                context = context[1:] + [ix]\n",
    "                out.append(itos[ix])\n",
    "                if ix == 0:\n",
    "                    break\n",
    "                    \n",
    "            generated_names.append(''.join(out)[:-1])\n",
    "        \n",
    "        return generated_names"
   ]
  },
  {
   "cell_type": "code",
   "execution_count": 31,
   "metadata": {},
   "outputs": [
    {
     "data": {
      "application/vnd.jupyter.widget-view+json": {
       "model_id": "9f9d93535d834a75b16789d552c301ec",
       "version_major": 2,
       "version_minor": 0
      },
      "text/plain": [
       "  0%|          | 0/100 [00:00<?, ?it/s]"
      ]
     },
     "metadata": {},
     "output_type": "display_data"
    }
   ],
   "source": [
    "trigram_model = TrigramModel(\n",
    "    num_features=54, \n",
    "    num_out=27,\n",
    "    num_epochs=100, \n",
    "    learning_rate=50, \n",
    "    logging=False, \n",
    "    regularize=True, \n",
    "    smooth_strength=0.01,\n",
    ")\n",
    "\n",
    "trigram_model.fit(X_trigram, Y_trigram)"
   ]
  },
  {
   "cell_type": "code",
   "execution_count": 32,
   "metadata": {},
   "outputs": [
    {
     "data": {
      "text/plain": [
       "['ayl',\n",
       " 'ee',\n",
       " 'eahviannalizyr',\n",
       " 'uluouyra',\n",
       " 'isaynerreyana',\n",
       " 'urishlia',\n",
       " 'dyussmon',\n",
       " 'zeriel',\n",
       " 'ed',\n",
       " 'ua']"
      ]
     },
     "execution_count": 32,
     "metadata": {},
     "output_type": "execute_result"
    }
   ],
   "source": [
    "trigram_model.generate_sample(num_examples=10, itos=itos)"
   ]
  },
  {
   "cell_type": "markdown",
   "metadata": {},
   "source": [
    "# Exercise 2"
   ]
  },
  {
   "cell_type": "markdown",
   "metadata": {},
   "source": [
    "## Comparision Trigram & Bigram"
   ]
  },
  {
   "cell_type": "markdown",
   "metadata": {},
   "source": [
    "Split up the dataset randomly into 80% train set, 10% dev set, 10% test set. Train the bigram and trigram models only on the training set. Evaluate them on dev and test splits. What can you see?"
   ]
  },
  {
   "cell_type": "code",
   "execution_count": 43,
   "metadata": {},
   "outputs": [],
   "source": [
    "def build_dataset(words, block_size): \n",
    "    X, Y = [], [] \n",
    "    for word in words:\n",
    "        context = [0] * block_size \n",
    "        for char in word + '.':\n",
    "            ix = stoi[char] \n",
    "            X.append(context) \n",
    "            Y.append(ix) \n",
    "            context = context[1:] + [ix] \n",
    "    \n",
    "    X = torch.tensor(X) \n",
    "    Y = torch.tensor(Y) \n",
    "\n",
    "    if block_size ==1: \n",
    "        X = X.view(-1) \n",
    "    \n",
    "    return X, Y \n",
    "\n",
    "random.shuffle(words) \n",
    "\n",
    "n1 = int(0.8*len(words)) \n",
    "n2 = int(0.9*len(words)) \n",
    "\n",
    "words_train = words[:n1] \n",
    "words_dev = words[n1:n2] \n",
    "words_test = words[n2:]\n",
    "\n",
    "X_train_bigram, Y_train_bigram = build_dataset(words=words_train, block_size=1)\n",
    "X_dev_bigram, Y_dev_bigram = build_dataset(words=words_dev, block_size=1)\n",
    "X_test_bigram, Y_test_bigram = build_dataset(words=words_test, block_size=1)"
   ]
  },
  {
   "cell_type": "code",
   "execution_count": 46,
   "metadata": {},
   "outputs": [
    {
     "data": {
      "application/vnd.jupyter.widget-view+json": {
       "model_id": "1907b89b39d843e9b8396e25a8ac9504",
       "version_major": 2,
       "version_minor": 0
      },
      "text/plain": [
       "  0%|          | 0/100 [00:00<?, ?it/s]"
      ]
     },
     "metadata": {},
     "output_type": "display_data"
    }
   ],
   "source": [
    "bigram_model = BigramModel(\n",
    "    num_features=27, \n",
    "    num_out=27,\n",
    "    num_epochs=100, \n",
    "    learning_rate=50, \n",
    "    logging=False, \n",
    "    regularize=True, \n",
    "    smooth_strength=0.01,\n",
    ")\n",
    "\n",
    "bigram_model.fit(X_train_bigram, Y_train_bigram)"
   ]
  },
  {
   "cell_type": "code",
   "execution_count": 47,
   "metadata": {},
   "outputs": [
    {
     "name": "stdout",
     "output_type": "stream",
     "text": [
      "Train loss: 2.4899\n",
      "Dev loss: 2.4850\n",
      "Test loss: 2.4964\n"
     ]
    }
   ],
   "source": [
    "# Computing losses for the three sets\n",
    "bigram_train_loss = bigram_model(X_train_bigram, Y_train_bigram).item()\n",
    "bigram_dev_loss = bigram_model(X_dev_bigram, Y_dev_bigram).item()\n",
    "bigram_test_loss = bigram_model(X_test_bigram, Y_test_bigram).item()\n",
    "\n",
    "print(f\"Train loss: {bigram_train_loss:.4f}\")\n",
    "print(f\"Dev loss: {bigram_dev_loss:.4f}\")\n",
    "print(f\"Test loss: {bigram_test_loss:.4f}\")"
   ]
  },
  {
   "cell_type": "code",
   "execution_count": 49,
   "metadata": {},
   "outputs": [
    {
     "data": {
      "application/vnd.jupyter.widget-view+json": {
       "model_id": "dba41bc6738848e1961825eb2d8c94fd",
       "version_major": 2,
       "version_minor": 0
      },
      "text/plain": [
       "  0%|          | 0/100 [00:00<?, ?it/s]"
      ]
     },
     "metadata": {},
     "output_type": "display_data"
    }
   ],
   "source": [
    "X_train_trigram, Y_train_trigram = build_dataset(words=words_train, block_size=2)\n",
    "X_dev_trigram, Y_dev_trigram = build_dataset(words=words_dev, block_size=2)\n",
    "X_test_trigram, Y_test_trigram = build_dataset(words=words_test, block_size=2)  \n",
    "\n",
    "# Instantiating a trigram model\n",
    "trigram_model = TrigramModel(\n",
    "    num_features=54, \n",
    "    num_out=27,\n",
    "    num_epochs=100, \n",
    "    learning_rate=50, \n",
    "    logging=False, \n",
    "    regularize=True, \n",
    "    smooth_strength=0.01,\n",
    ")\n",
    "\n",
    "# Launching training process\n",
    "trigram_model.fit(X_train_trigram, Y_train_trigram)\n"
   ]
  },
  {
   "cell_type": "code",
   "execution_count": 50,
   "metadata": {},
   "outputs": [
    {
     "name": "stdout",
     "output_type": "stream",
     "text": [
      "Train loss: 2.4522\n",
      "Dev loss: 2.4469\n",
      "Test loss: 2.4642\n"
     ]
    }
   ],
   "source": [
    "trigram_train_loss = trigram_model(X_train_trigram, Y_train_trigram).item()\n",
    "trigram_dev_loss = trigram_model(X_dev_trigram, Y_dev_trigram).item()\n",
    "trigram_test_loss = trigram_model(X_test_trigram, Y_test_trigram).item()\n",
    "\n",
    "print(f\"Train loss: {trigram_train_loss:.4f}\")\n",
    "print(f\"Dev loss: {trigram_dev_loss:.4f}\")\n",
    "print(f\"Test loss: {trigram_test_loss:.4f}\")"
   ]
  },
  {
   "cell_type": "code",
   "execution_count": 51,
   "metadata": {},
   "outputs": [
    {
     "data": {
      "text/html": [
       "<div>\n",
       "<style scoped>\n",
       "    .dataframe tbody tr th:only-of-type {\n",
       "        vertical-align: middle;\n",
       "    }\n",
       "\n",
       "    .dataframe tbody tr th {\n",
       "        vertical-align: top;\n",
       "    }\n",
       "\n",
       "    .dataframe thead th {\n",
       "        text-align: right;\n",
       "    }\n",
       "</style>\n",
       "<table border=\"1\" class=\"dataframe\">\n",
       "  <thead>\n",
       "    <tr style=\"text-align: right;\">\n",
       "      <th></th>\n",
       "      <th>bigram_loss</th>\n",
       "      <th>trigram_loss</th>\n",
       "    </tr>\n",
       "  </thead>\n",
       "  <tbody>\n",
       "    <tr>\n",
       "      <th>train</th>\n",
       "      <td>2.4899</td>\n",
       "      <td>2.4522</td>\n",
       "    </tr>\n",
       "    <tr>\n",
       "      <th>dev</th>\n",
       "      <td>2.4850</td>\n",
       "      <td>2.4469</td>\n",
       "    </tr>\n",
       "    <tr>\n",
       "      <th>test</th>\n",
       "      <td>2.4964</td>\n",
       "      <td>2.4642</td>\n",
       "    </tr>\n",
       "  </tbody>\n",
       "</table>\n",
       "</div>"
      ],
      "text/plain": [
       "       bigram_loss  trigram_loss\n",
       "train       2.4899        2.4522\n",
       "dev         2.4850        2.4469\n",
       "test        2.4964        2.4642"
      ]
     },
     "execution_count": 51,
     "metadata": {},
     "output_type": "execute_result"
    }
   ],
   "source": [
    "# Combining training, dev and test losses for each model\n",
    "losses = {\n",
    "    \"bigram_loss\": [bigram_train_loss, bigram_dev_loss, bigram_test_loss],\n",
    "    \"trigram_loss\": [trigram_train_loss, trigram_dev_loss, trigram_test_loss]\n",
    "}\n",
    "\n",
    "index = [\"train\", \"dev\", \"test\"]\n",
    "loss_set_df = pd.DataFrame(losses, index=index).round(4)\n",
    "loss_set_df"
   ]
  },
  {
   "cell_type": "code",
   "execution_count": 52,
   "metadata": {},
   "outputs": [
    {
     "data": {
      "image/png": "[encoded data removed]",
      "text/plain": [
       "<Figure size 640x480 with 1 Axes>"
      ]
     },
     "metadata": {},
     "output_type": "display_data"
    }
   ],
   "source": [
    "# Losses obtained during training bigram/trigram models\n",
    "loss_histories = {\n",
    "    \"Bigram\": bigram_model.history.values(),\n",
    "    \"Trigram\": trigram_model.history.values(),\n",
    "}\n",
    "\n",
    "# Joining results in a DataFrame\n",
    "comparison_df = pd.DataFrame(loss_histories)\n",
    "\n",
    "# Plotting the comparison\n",
    "comparison_df.plot()\n",
    "plt.xlabel(\"Epoch\")\n",
    "plt.ylabel(\"NLL Loss\")\n",
    "plt.title(\"NLL loss comparison (training set)\", fontsize=16)\n",
    "plt.tight_layout()\n",
    "plt.show()"
   ]
  },
  {
   "cell_type": "code",
   "execution_count": 54,
   "metadata": {},
   "outputs": [
    {
     "data": {
      "text/plain": [
       "['ayl',\n",
       " 'eeiey',\n",
       " 'viannmonind',\n",
       " 'pidouyra',\n",
       " 'jon',\n",
       " 'cerrdyanaya',\n",
       " 'kseli',\n",
       " 'peyussmon',\n",
       " 'zzolie',\n",
       " 'e']"
      ]
     },
     "execution_count": 54,
     "metadata": {},
     "output_type": "execute_result"
    }
   ],
   "source": [
    "bigram_model.generate_sample(num_examples=10, itos=itos)"
   ]
  },
  {
   "cell_type": "code",
   "execution_count": 55,
   "metadata": {},
   "outputs": [
    {
     "data": {
      "text/plain": [
       "['kyl',\n",
       " 'ee',\n",
       " 'elevtonnalizyr',\n",
       " 'piuouyra',\n",
       " 'joden',\n",
       " 'rreyana',\n",
       " 'mik',\n",
       " 'jlia',\n",
       " 'dyussmon',\n",
       " 'zeriel']"
      ]
     },
     "execution_count": 55,
     "metadata": {},
     "output_type": "execute_result"
    }
   ],
   "source": [
    "trigram_model.generate_sample(num_examples=10, itos=itos)"
   ]
  },
  {
   "cell_type": "markdown",
   "metadata": {},
   "source": [
    "# Exercise 3"
   ]
  },
  {
   "cell_type": "code",
   "execution_count": 58,
   "metadata": {},
   "outputs": [
    {
     "data": {
      "text/plain": [
       "array([0.  , 0.01, 0.02, 0.03, 0.04, 0.05, 0.06, 0.07, 0.08, 0.09, 0.1 ])"
      ]
     },
     "execution_count": 58,
     "metadata": {},
     "output_type": "execute_result"
    }
   ],
   "source": [
    "strengths = np.arange(0.00, 0.11, 0.01)\n",
    "strengths"
   ]
  },
  {
   "cell_type": "code",
   "execution_count": 61,
   "metadata": {},
   "outputs": [
    {
     "name": "stdout",
     "output_type": "stream",
     "text": [
      "strength = 0.00: train_loss = 2.4427, dev_loss = 2.4372\n",
      "strength = 0.01: train_loss = 2.4522, dev_loss = 2.4469\n",
      "strength = 0.02: train_loss = 2.4617, dev_loss = 2.4565\n",
      "strength = 0.03: train_loss = 2.4694, dev_loss = 2.4643\n",
      "strength = 0.04: train_loss = 2.4765, dev_loss = 2.4716\n",
      "strength = 0.05: train_loss = 2.4836, dev_loss = 2.4788\n",
      "strength = 0.06: train_loss = 2.4897, dev_loss = 2.4850\n",
      "strength = 0.07: train_loss = 2.4954, dev_loss = 2.4908\n",
      "strength = 0.08: train_loss = 2.5010, dev_loss = 2.4964\n",
      "strength = 0.09: train_loss = 2.5066, dev_loss = 2.5021\n",
      "strength = 0.10: train_loss = 2.5115, dev_loss = 2.5071\n",
      "\n",
      "Best dev loss: 2.4372\n",
      "Best strength: 0.00\n",
      "\n",
      "Test set loss: 2.4548\n"
     ]
    }
   ],
   "source": [
    "# Preallocating a variable for best loss selection\n",
    "best_dev_loss = np.inf\n",
    "# Preallocating a variable for storing best regularization rate\n",
    "best_strength = 0\n",
    "# Preallocating a variable for storing the best model\n",
    "best_model = None\n",
    "\n",
    "# Launching tuning procedure\n",
    "for strength in strengths:\n",
    "    # Instantiating a model\n",
    "    model = TrigramModel(\n",
    "        num_features=54, \n",
    "        num_out=27,\n",
    "        num_epochs=100,\n",
    "        learning_rate=50, \n",
    "        regularize=True, \n",
    "        smooth_strength=strength,\n",
    "        enable_tqdm=False,\n",
    "    )\n",
    "    \n",
    "    # Training\n",
    "    model.fit(X_train_trigram, Y_train_trigram)\n",
    "    \n",
    "    # Computing train/dev loss\n",
    "    train_loss = model(X_train_trigram, Y_train_trigram).item()\n",
    "    dev_loss = model(X_dev_trigram, Y_dev_trigram).item()\n",
    "    \n",
    "    # Making a decision about the best smoothing strength\n",
    "    if dev_loss < best_dev_loss:\n",
    "        best_dev_loss = dev_loss\n",
    "        best_strength = strength\n",
    "        best_model = model\n",
    "    \n",
    "    # Logging the results\n",
    "    print(f\"strength = {strength:.2f}: train_loss = {train_loss:.4f}, dev_loss = {dev_loss:.4f}\")\n",
    "    \n",
    "print(f\"\\nBest dev loss: {best_dev_loss:.4f}\")\n",
    "print(f\"Best strength: {best_strength:.2f}\")\n",
    "\n",
    "test_loss = best_model(X_test_trigram, Y_test_trigram).item()\n",
    "print(f\"\\nTest set loss: {test_loss:.4f}\")"
   ]
  },
  {
   "cell_type": "code",
   "execution_count": 62,
   "metadata": {},
   "outputs": [
    {
     "data": {
      "text/html": [
       "<div>\n",
       "<style scoped>\n",
       "    .dataframe tbody tr th:only-of-type {\n",
       "        vertical-align: middle;\n",
       "    }\n",
       "\n",
       "    .dataframe tbody tr th {\n",
       "        vertical-align: top;\n",
       "    }\n",
       "\n",
       "    .dataframe thead th {\n",
       "        text-align: right;\n",
       "    }\n",
       "</style>\n",
       "<table border=\"1\" class=\"dataframe\">\n",
       "  <thead>\n",
       "    <tr style=\"text-align: right;\">\n",
       "      <th></th>\n",
       "      <th>bigram_loss</th>\n",
       "      <th>trigram_loss</th>\n",
       "    </tr>\n",
       "  </thead>\n",
       "  <tbody>\n",
       "    <tr>\n",
       "      <th>train</th>\n",
       "      <td>2.4899</td>\n",
       "      <td>2.4522</td>\n",
       "    </tr>\n",
       "    <tr>\n",
       "      <th>dev</th>\n",
       "      <td>2.4850</td>\n",
       "      <td>2.4469</td>\n",
       "    </tr>\n",
       "    <tr>\n",
       "      <th>test</th>\n",
       "      <td>2.4964</td>\n",
       "      <td>2.4642</td>\n",
       "    </tr>\n",
       "  </tbody>\n",
       "</table>\n",
       "</div>"
      ],
      "text/plain": [
       "       bigram_loss  trigram_loss\n",
       "train       2.4899        2.4522\n",
       "dev         2.4850        2.4469\n",
       "test        2.4964        2.4642"
      ]
     },
     "execution_count": 62,
     "metadata": {},
     "output_type": "execute_result"
    }
   ],
   "source": [
    "loss_set_df"
   ]
  },
  {
   "cell_type": "markdown",
   "metadata": {},
   "source": [
    "# Exercise 4"
   ]
  },
  {
   "cell_type": "markdown",
   "metadata": {},
   "source": [
    "We saw that our 1-hot vectors merely select a row of W, so producing these vectors explicitly feels wasteful. Can you delete our use of F.one_hot in favor of simply indexing into rows of W?"
   ]
  },
  {
   "cell_type": "code",
   "execution_count": 72,
   "metadata": {},
   "outputs": [],
   "source": [
    "\n",
    "class BigramModelV2(BigramModel):\n",
    "    \n",
    "    def __init__(self, *args, **kwargs):\n",
    "        super().__init__(*args, **kwargs)\n",
    "        \n",
    "    def __call__(self, x, y):\n",
    "        \n",
    "        logits = self.weights[x]\n",
    "        # Retrieving counts\n",
    "        counts = logits.exp()\n",
    "        # Computing probabilities for the next character\n",
    "        probas = counts / counts.sum(1, keepdims=True)\n",
    "        \n",
    "        # Computing loss (w/wo regularization)\n",
    "        if self.regularize:\n",
    "            if self.smooth_strength is None:\n",
    "                raise ValueError(\"Regularization rate not specified\")\n",
    "            loss = -probas[torch.arange(x.shape[0]), y].log().mean() + self.smooth_strength * (self.weights**2).mean()\n",
    "        else:\n",
    "            if self.smooth_strength is not None:\n",
    "                warnings.warn(\"Specifying regularization rate has no effect\")\n",
    "            loss = -probas[torch.arange(x.shape[0]), y].log().mean()\n",
    "            \n",
    "        return loss"
   ]
  },
  {
   "cell_type": "code",
   "execution_count": 73,
   "metadata": {},
   "outputs": [
    {
     "data": {
      "application/vnd.jupyter.widget-view+json": {
       "model_id": "b2ecb4c1e43547bb81b9324e0128ca18",
       "version_major": 2,
       "version_minor": 0
      },
      "text/plain": [
       "  0%|          | 0/100 [00:00<?, ?it/s]"
      ]
     },
     "metadata": {},
     "output_type": "display_data"
    }
   ],
   "source": [
    "bigram_model = BigramModelV2(\n",
    "    num_features=27, \n",
    "    num_out=27,\n",
    "    num_epochs=100, \n",
    "    learning_rate=50, \n",
    "    logging=False, \n",
    "    regularize=True, \n",
    "    smooth_strength=0.01,\n",
    ")\n",
    "\n",
    "bigram_model.fit(X_train_bigram, Y_train_bigram)"
   ]
  },
  {
   "cell_type": "code",
   "execution_count": 74,
   "metadata": {},
   "outputs": [
    {
     "name": "stdout",
     "output_type": "stream",
     "text": [
      "Train loss: 2.4899\n",
      "Dev loss: 2.4850\n",
      "Test loss: 2.4964\n"
     ]
    }
   ],
   "source": [
    "# Computing losses for the three sets\n",
    "bigram_train_loss = bigram_model(X_train_bigram, Y_train_bigram).item()\n",
    "bigram_dev_loss = bigram_model(X_dev_bigram, Y_dev_bigram).item()\n",
    "bigram_test_loss = bigram_model(X_test_bigram, Y_test_bigram).item()\n",
    "\n",
    "print(f\"Train loss: {bigram_train_loss:.4f}\")\n",
    "print(f\"Dev loss: {bigram_dev_loss:.4f}\")\n",
    "print(f\"Test loss: {bigram_test_loss:.4f}\")"
   ]
  },
  {
   "cell_type": "code",
   "execution_count": 75,
   "metadata": {},
   "outputs": [
    {
     "data": {
      "text/html": [
       "<div>\n",
       "<style scoped>\n",
       "    .dataframe tbody tr th:only-of-type {\n",
       "        vertical-align: middle;\n",
       "    }\n",
       "\n",
       "    .dataframe tbody tr th {\n",
       "        vertical-align: top;\n",
       "    }\n",
       "\n",
       "    .dataframe thead th {\n",
       "        text-align: right;\n",
       "    }\n",
       "</style>\n",
       "<table border=\"1\" class=\"dataframe\">\n",
       "  <thead>\n",
       "    <tr style=\"text-align: right;\">\n",
       "      <th></th>\n",
       "      <th>bigram_loss</th>\n",
       "      <th>trigram_loss</th>\n",
       "    </tr>\n",
       "  </thead>\n",
       "  <tbody>\n",
       "    <tr>\n",
       "      <th>train</th>\n",
       "      <td>2.4899</td>\n",
       "      <td>2.4522</td>\n",
       "    </tr>\n",
       "    <tr>\n",
       "      <th>dev</th>\n",
       "      <td>2.4850</td>\n",
       "      <td>2.4469</td>\n",
       "    </tr>\n",
       "    <tr>\n",
       "      <th>test</th>\n",
       "      <td>2.4964</td>\n",
       "      <td>2.4642</td>\n",
       "    </tr>\n",
       "  </tbody>\n",
       "</table>\n",
       "</div>"
      ],
      "text/plain": [
       "       bigram_loss  trigram_loss\n",
       "train       2.4899        2.4522\n",
       "dev         2.4850        2.4469\n",
       "test        2.4964        2.4642"
      ]
     },
     "execution_count": 75,
     "metadata": {},
     "output_type": "execute_result"
    }
   ],
   "source": [
    "loss_set_df"
   ]
  },
  {
   "cell_type": "markdown",
   "metadata": {},
   "source": [
    "By simply indexing the rows of the weight matrix, we were able to slightly speed up the computations while achieving the same results as above."
   ]
  },
  {
   "cell_type": "markdown",
   "metadata": {},
   "source": [
    "# Exercise 5"
   ]
  },
  {
   "cell_type": "markdown",
   "metadata": {},
   "source": [
    " Look up and use F.cross_entropy instead. You should achieve the same result. Can you think of why we'd prefer to use F.cross_entropy instead?"
   ]
  },
  {
   "cell_type": "markdown",
   "metadata": {},
   "source": [
    "## Bigram Model"
   ]
  },
  {
   "cell_type": "code",
   "execution_count": 76,
   "metadata": {},
   "outputs": [],
   "source": [
    "class BigramModelV3(BigramModel):\n",
    "    \n",
    "    def __init__(self, *args, **kwargs):\n",
    "        super().__init__(*args, **kwargs)\n",
    "        \n",
    "    def __call__(self, x, y):\n",
    "        logits = self.weights[x]\n",
    "        # computing loss (w/wo regularization) \n",
    "        if self.regularize:\n",
    "            if self.smooth_strength is None: \n",
    "                raise ValueError(\"Regularizaton rate not specified\") \n",
    "            loss = F.cross_entropy(logits, y) + self.smooth_strength * (self.weights**2).mean() \n",
    "        else: \n",
    "            loss = F.cross_entropy(logits, y) \n",
    "        \n",
    "        return loss \n",
    "                \n"
   ]
  },
  {
   "cell_type": "code",
   "execution_count": 78,
   "metadata": {},
   "outputs": [
    {
     "data": {
      "application/vnd.jupyter.widget-view+json": {
       "model_id": "7e5d6165680d4c33978d1e19dedca7ee",
       "version_major": 2,
       "version_minor": 0
      },
      "text/plain": [
       "  0%|          | 0/100 [00:00<?, ?it/s]"
      ]
     },
     "metadata": {},
     "output_type": "display_data"
    },
    {
     "name": "stdout",
     "output_type": "stream",
     "text": [
      "Train loss: 2.4899\n",
      "Dev loss: 2.4850\n",
      "Test loss: 2.4964\n"
     ]
    }
   ],
   "source": [
    "bigram_model = BigramModelV2(\n",
    "    num_features=27, \n",
    "    num_out=27,\n",
    "    num_epochs=100, \n",
    "    learning_rate=50, \n",
    "    logging=False, \n",
    "    regularize=True, \n",
    "    smooth_strength=0.01,\n",
    ")\n",
    "\n",
    "bigram_model.fit(X_train_bigram, Y_train_bigram)\n",
    "\n",
    "# Computing losses for the three sets\n",
    "bigram_train_loss = bigram_model(X_train_bigram, Y_train_bigram).item()\n",
    "bigram_dev_loss = bigram_model(X_dev_bigram, Y_dev_bigram).item()\n",
    "bigram_test_loss = bigram_model(X_test_bigram, Y_test_bigram).item()\n",
    "\n",
    "print(f\"Train loss: {bigram_train_loss:.4f}\")\n",
    "print(f\"Dev loss: {bigram_dev_loss:.4f}\")\n",
    "print(f\"Test loss: {bigram_test_loss:.4f}\")"
   ]
  },
  {
   "cell_type": "markdown",
   "metadata": {},
   "source": [
    "## Trigram Model"
   ]
  },
  {
   "cell_type": "code",
   "execution_count": null,
   "metadata": {},
   "outputs": [],
   "source": [
    "class TrigramModelV3(BigramModel):\n",
    "    \n",
    "    def __init__(self, *args, **kwargs):\n",
    "        super().__init__(*args, **kwargs)\n",
    "        \n",
    "    def __call__(self, x, y):\n",
    "        \n",
    "        logits = self.weights[x]\n",
    "        \n",
    "        # Computing loss (w/wo regularization)\n",
    "        if self.regularize:\n",
    "            loss = F.cross_entropy(logits, y) + self.smooth_strength * (self.weights**2).mean()\n",
    "        else:\n",
    "            loss = F.cross_entropy(logits, y)\n",
    "            \n",
    "        return loss\n",
    "    \n",
    "    "
   ]
  },
  {
   "cell_type": "code",
   "execution_count": 88,
   "metadata": {},
   "outputs": [
    {
     "data": {
      "application/vnd.jupyter.widget-view+json": {
       "model_id": "06cc36e6508d4cf4a936d36334224fad",
       "version_major": 2,
       "version_minor": 0
      },
      "text/plain": [
       "  0%|          | 0/100 [00:00<?, ?it/s]"
      ]
     },
     "metadata": {},
     "output_type": "display_data"
    },
    {
     "name": "stdout",
     "output_type": "stream",
     "text": [
      "Train loss: 2.4522\n",
      "Dev loss: 2.4469\n",
      "Test loss: 2.4642\n"
     ]
    }
   ],
   "source": [
    "# Instantiating a trigram model\n",
    "trigram_model = TrigramModel(\n",
    "    num_features=54, \n",
    "    num_out=27,\n",
    "    num_epochs=100, \n",
    "    learning_rate=50, \n",
    "    logging=False, \n",
    "    regularize=True, \n",
    "    smooth_strength=0.01,\n",
    ")\n",
    "\n",
    "trigram_model.fit(X_train_trigram, Y_train_trigram)\n",
    "\n",
    "trigram_train_loss = trigram_model(X_train_trigram, Y_train_trigram).item()\n",
    "trigram_dev_loss = trigram_model(X_dev_trigram, Y_dev_trigram).item()\n",
    "trigram_test_loss = trigram_model(X_test_trigram, Y_test_trigram).item()\n",
    "\n",
    "print(f\"Train loss: {trigram_train_loss:.4f}\")\n",
    "print(f\"Dev loss: {trigram_dev_loss:.4f}\")\n",
    "print(f\"Test loss: {trigram_test_loss:.4f}\")"
   ]
  },
  {
   "cell_type": "code",
   "execution_count": 89,
   "metadata": {},
   "outputs": [
    {
     "data": {
      "text/html": [
       "<div>\n",
       "<style scoped>\n",
       "    .dataframe tbody tr th:only-of-type {\n",
       "        vertical-align: middle;\n",
       "    }\n",
       "\n",
       "    .dataframe tbody tr th {\n",
       "        vertical-align: top;\n",
       "    }\n",
       "\n",
       "    .dataframe thead th {\n",
       "        text-align: right;\n",
       "    }\n",
       "</style>\n",
       "<table border=\"1\" class=\"dataframe\">\n",
       "  <thead>\n",
       "    <tr style=\"text-align: right;\">\n",
       "      <th></th>\n",
       "      <th>bigram_loss</th>\n",
       "      <th>trigram_loss</th>\n",
       "    </tr>\n",
       "  </thead>\n",
       "  <tbody>\n",
       "    <tr>\n",
       "      <th>train</th>\n",
       "      <td>2.4899</td>\n",
       "      <td>2.4522</td>\n",
       "    </tr>\n",
       "    <tr>\n",
       "      <th>dev</th>\n",
       "      <td>2.4850</td>\n",
       "      <td>2.4469</td>\n",
       "    </tr>\n",
       "    <tr>\n",
       "      <th>test</th>\n",
       "      <td>2.4964</td>\n",
       "      <td>2.4642</td>\n",
       "    </tr>\n",
       "  </tbody>\n",
       "</table>\n",
       "</div>"
      ],
      "text/plain": [
       "       bigram_loss  trigram_loss\n",
       "train       2.4899        2.4522\n",
       "dev         2.4850        2.4469\n",
       "test        2.4964        2.4642"
      ]
     },
     "execution_count": 89,
     "metadata": {},
     "output_type": "execute_result"
    }
   ],
   "source": [
    "loss_set_df"
   ]
  }
 ],
 "metadata": {
  "kernelspec": {
   "display_name": "Python 3",
   "language": "python",
   "name": "python3"
  },
  "language_info": {
   "codemirror_mode": {
    "name": "ipython",
    "version": 3
   },
   "file_extension": ".py",
   "mimetype": "text/x-python",
   "name": "python",
   "nbconvert_exporter": "python",
   "pygments_lexer": "ipython3",
   "version": "3.13.5"
  }
 },
 "nbformat": 4,
 "nbformat_minor": 4
}
