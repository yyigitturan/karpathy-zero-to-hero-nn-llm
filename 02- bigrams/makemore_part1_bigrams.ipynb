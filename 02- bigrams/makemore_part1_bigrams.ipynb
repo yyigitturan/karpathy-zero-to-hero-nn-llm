{
 "cells": [
  {
   "cell_type": "code",
   "execution_count": 36,
   "metadata": {},
   "outputs": [],
   "source": [
    "import torch \n",
    "import torch.nn.functional as F\n",
    "from tqdm import notebook \n",
    "import random  \n",
    "import pandas as pd \n",
    "import matplotlib.pyplot as plt"
   ]
  },
  {
   "cell_type": "code",
   "execution_count": 3,
   "metadata": {},
   "outputs": [
    {
     "data": {
      "text/plain": [
       "['emma', 'olivia', 'ava', 'isabella', 'sophia']"
      ]
     },
     "execution_count": 3,
     "metadata": {},
     "output_type": "execute_result"
    }
   ],
   "source": [
    "words = open('names.txt', 'r').read().splitlines() \n",
    "words[:5] "
   ]
  },
  {
   "cell_type": "code",
   "execution_count": 4,
   "metadata": {},
   "outputs": [
    {
     "name": "stdout",
     "output_type": "stream",
     "text": [
      "Number of names:  32033\n"
     ]
    }
   ],
   "source": [
    "print(\"Number of names: \", len(words))"
   ]
  },
  {
   "cell_type": "code",
   "execution_count": 5,
   "metadata": {},
   "outputs": [
    {
     "data": {
      "text/plain": [
       "(2, 15)"
      ]
     },
     "execution_count": 5,
     "metadata": {},
     "output_type": "execute_result"
    }
   ],
   "source": [
    "min(len(w) for w in words), max(len(w) for w in words)"
   ]
  },
  {
   "cell_type": "code",
   "execution_count": 12,
   "metadata": {},
   "outputs": [],
   "source": [
    "chars = sorted(list(set(''.join(words)))) \n",
    "stoi = {s:i+1 for i, s in enumerate(chars)}  \n",
    "stoi['.'] = 0\n",
    "len(stoi)  \n",
    "itos = {i:s for s,i in stoi.items()} "
   ]
  },
  {
   "cell_type": "markdown",
   "metadata": {},
   "source": [
    "# Bigram Model"
   ]
  },
  {
   "cell_type": "code",
   "execution_count": 13,
   "metadata": {},
   "outputs": [],
   "source": [
    "# create dataset  \n",
    "X_bigram, Y_bigram = [], [] \n",
    "\n",
    "for word in words: \n",
    "    # Adding special token each word\n",
    "    chars = ['.'] + list(word) + ['.'] \n",
    "    for char_1, char_2 in zip(chars, chars[1:]): \n",
    "        ix_1 = stoi[char_1] \n",
    "        ix_2 = stoi[char_2]   \n",
    "\n",
    "        X_bigram.append(ix_1) \n",
    "        Y_bigram.append(ix_2) \n",
    "\n",
    "X_bigram = torch.tensor(X_bigram) \n",
    "Y_bigram = torch.tensor(Y_bigram) "
   ]
  },
  {
   "cell_type": "code",
   "execution_count": 14,
   "metadata": {},
   "outputs": [
    {
     "name": "stdout",
     "output_type": "stream",
     "text": [
      "tensor([ 0,  5, 13,  ..., 25, 26, 24])\n",
      "tensor([ 5, 13, 13,  ..., 26, 24,  0])\n"
     ]
    }
   ],
   "source": [
    "print(X_bigram) \n",
    "print(Y_bigram)"
   ]
  },
  {
   "cell_type": "code",
   "execution_count": null,
   "metadata": {},
   "outputs": [],
   "source": [
    "class BigramModel: \n",
    "    def __init__(self,\n",
    "                 num_features, \n",
    "                 num_out, \n",
    "                 num_epochs, \n",
    "                 learning_rate, \n",
    "                 logging=False, \n",
    "                 regularize=False, \n",
    "                 smooth_strength=None, \n",
    "                 seed=123, \n",
    "                 enable_tqdm=True,\n",
    "                 *args,\n",
    "                 **kwargs): \n",
    "        # Initializes BigramModel instance \n",
    "        self.num_features = num_features \n",
    "        self.num_out = num_out \n",
    "        self.num_epochs = num_epochs \n",
    "        self.learning_rate = learning_rate\n",
    "        self.logging = logging \n",
    "        self.regularize = regularize  \n",
    "        self.smooth_strength = smooth_strength \n",
    "        self.seed = seed \n",
    "        self.enable_tqdm = enable_tqdm \n",
    "        # Generating random weights based on a random seed\n",
    "        g = torch.Generator().manual_seed(seed)  \n",
    "        self.weights = torch.randn((num_features, num_out), generator=g)\n",
    "        self.weights.requires_grad = True\n",
    "\n",
    "    def __call__(self, x, y):  \n",
    "        \"\"\"makes a softmax forward pass and compute the NLL loss\"\"\"\n",
    "        # One hot encoding NN inputs \n",
    "        x_encoded = F.one_hot(x, num_classes=self.num_out).float() \n",
    "        # computing predictions for log-counts \n",
    "        logits = x_encoded @ self.weights \n",
    "        # retrieving counts \n",
    "        counts = logits.exp() \n",
    "        # computing probs for next character \n",
    "        probas = counts / counts.sum(1, keepdims=True)  \n",
    "\n",
    "        # computing loss \n",
    "        if self.regularize: \n",
    "            if self.smooth_strength is None: \n",
    "                raise ValueError(\"Regularization rate not specified\") \n",
    "            loss = -probas[torch.arange(x.shape[0]), y].log().mean() + self.smooth_strength * (self.weights**2).mean() \n",
    "        else: \n",
    "            loss = -probas[torch.arange(x.shape[0]), y].log().mean() \n",
    "        \n",
    "        return loss\n",
    "\n",
    "    def fit(self, x, y): \n",
    "        loss_per_epoch = {} \n",
    "        epoch_counter = notebook.tqdm(range(self.num_epochs)) if self.enable_tqdm else range(self.num_epochs)\n",
    "        for k in epoch_counter: \n",
    "            # making a forward pass and computing a loss \n",
    "            loss = self(x, y)  \n",
    "            loss_per_epoch[f\"epoch_{k+1}\"] = loss.item() \n",
    "            if self.logging:\n",
    "                print(f\"Epoch {k+1:03d}/{self.num_epochs:03d}: loss= {loss.item():.4f}\")\n",
    "            # setting gradients to zero \n",
    "            self.weights.grad = None \n",
    "            loss.backward() \n",
    "            # updating weights (SGD) \n",
    "            self.weights.data += -self.learning_rate * self.weights.grad\n",
    "        self.history = loss_per_epoch \n",
    "\n",
    "    def generate_sample(self, num_examples, itos): \n",
    "        g = torch.Generator().manual_seed(self.seed) \n",
    "        generated_names = [] \n",
    "        for i in range(num_examples): \n",
    "            out = [] \n",
    "            ix = 0  \n",
    "            while True: \n",
    "                # One hot encoding\n",
    "                x_encoded = F.one_hot(torch.tensor([ix]), num_classes=self.num_out).float()\n",
    "                # computing predictions\n",
    "                logits = x_encoded @ self.weights\n",
    "                counts = logits.exp()\n",
    "                probas = counts / counts.sum(1, keepdims=True)\n",
    "                # next character\n",
    "                ix = torch.multinomial(probas, num_samples=1, replacement=True, generator=g).item()\n",
    "                \n",
    "                out.append(itos[ix])\n",
    "                if ix == 0:  \n",
    "                    break\n",
    "            generated_names.append(''.join(out)[:-1])  \n",
    "        \n",
    "        return generated_names"
   ]
  },
  {
   "cell_type": "code",
   "execution_count": 16,
   "metadata": {},
   "outputs": [
    {
     "data": {
      "application/vnd.jupyter.widget-view+json": {
       "model_id": "c47bd4bb9792400b8895437311101c83",
       "version_major": 2,
       "version_minor": 0
      },
      "text/plain": [
       "  0%|          | 0/100 [00:00<?, ?it/s]"
      ]
     },
     "metadata": {},
     "output_type": "display_data"
    }
   ],
   "source": [
    "bigram_model = BigramModel(\n",
    "    num_features=27, \n",
    "    num_out=27,\n",
    "    num_epochs=100, \n",
    "    learning_rate=50, \n",
    "    logging=False, \n",
    "    regularize=True, \n",
    "    smooth_strength=0.01,\n",
    ")\n",
    "\n",
    "# Launching training process\n",
    "bigram_model.fit(X_bigram, Y_bigram)"
   ]
  },
  {
   "cell_type": "code",
   "execution_count": 18,
   "metadata": {},
   "outputs": [
    {
     "data": {
      "text/plain": [
       "['ayl',\n",
       " 'eeiey',\n",
       " 'viannmonind',\n",
       " 'pidouyra',\n",
       " 'jon',\n",
       " 'cerrdyanaya',\n",
       " 'kseli',\n",
       " 'peyussmon',\n",
       " 'zzolie',\n",
       " 'e']"
      ]
     },
     "execution_count": 18,
     "metadata": {},
     "output_type": "execute_result"
    }
   ],
   "source": [
    "# Generating 10 new examples\n",
    "bigram_model.generate_sample(num_examples=10, itos=itos)"
   ]
  },
  {
   "cell_type": "markdown",
   "metadata": {},
   "source": [
    "# Exercise 1"
   ]
  },
  {
   "cell_type": "markdown",
   "metadata": {},
   "source": [
    "## Trigram Model "
   ]
  },
  {
   "cell_type": "code",
   "execution_count": 19,
   "metadata": {},
   "outputs": [],
   "source": [
    "X_trigram, Y_trigram = [], []\n",
    "for word in words:\n",
    "    # Adding special token for each word\n",
    "    chars = ['.'] + list(word) + ['.']\n",
    "    for char_1, char_2, char_3 in zip(chars, chars[1:], chars[2:]):\n",
    "        # Getting the indices of a letter\n",
    "        ix_1 = stoi[char_1]\n",
    "        ix_2 = stoi[char_2]\n",
    "        ix_3 = stoi[char_3]\n",
    "        \n",
    "        # Adding letter indices to lists\n",
    "        X_trigram.append([ix_1, ix_2])\n",
    "        Y_trigram.append(ix_3)\n",
    "\n",
    "# Casting as PyTorch tensors\n",
    "X_trigram = torch.tensor(X_trigram)\n",
    "Y_trigram = torch.tensor(Y_trigram)"
   ]
  },
  {
   "cell_type": "code",
   "execution_count": 20,
   "metadata": {},
   "outputs": [
    {
     "name": "stdout",
     "output_type": "stream",
     "text": [
      "tensor([[ 0,  5],\n",
      "        [ 5, 13],\n",
      "        [13, 13],\n",
      "        ...,\n",
      "        [26, 25],\n",
      "        [25, 26],\n",
      "        [26, 24]])\n",
      "tensor([13, 13,  1,  ..., 26, 24,  0])\n"
     ]
    }
   ],
   "source": [
    "print(X_trigram) \n",
    "print(Y_trigram)"
   ]
  },
  {
   "cell_type": "code",
   "execution_count": 30,
   "metadata": {},
   "outputs": [],
   "source": [
    "class TrigramModel(BigramModel):\n",
    "    def __init__(self, *args, **kwargs):\n",
    "        \"\"\"Inherits initialization schema from BigramModel class.\"\"\"\n",
    "        super().__init__(*args, **kwargs)\n",
    "    \n",
    "    def __call__(self, x, y):\n",
    "        \"\"\"Makes a softmax forward pass and computes the NLL loss.\"\"\"\n",
    "        x_encoded = F.one_hot(x, num_classes=self.num_out).float().view(-1, self.num_features)\n",
    "        logits = x_encoded @ self.weights # predict log-counts\n",
    "        counts = logits.exp() # counts, equivalent to N\n",
    "        probas = counts / counts.sum(1, keepdims=True) # probabilities for next character\n",
    "        \n",
    "        if self.regularize:\n",
    "            if self.smooth_strength is None:\n",
    "                raise ValueError(\"Regularization rate not specified\")\n",
    "            loss = -probas[torch.arange(x.shape[0]), y].log().mean() + self.smooth_strength * (self.weights**2).mean()\n",
    "        else:\n",
    "            loss = -probas[torch.arange(x.shape[0]), y].log().mean()\n",
    "            \n",
    "        return loss\n",
    "    \n",
    "    def generate_sample(self, num_examples, itos):\n",
    "        \"\"\"Generates a sample with names from the NN.\"\"\"\n",
    "        generator = torch.Generator().manual_seed(self.seed)\n",
    "        generated_names = []\n",
    "        for i in range(num_examples):\n",
    "            out = []\n",
    "            # Initializing the starting sequence\n",
    "            context = [0, 0] \n",
    "            while True:\n",
    "                x_encoded = F.one_hot(torch.tensor([context]), num_classes=self.num_out).float().view(1, -1)\n",
    "                logits = x_encoded @ self.weights\n",
    "                counts = logits.exp()\n",
    "                probas = counts / counts.sum(1, keepdims=True)\n",
    "                \n",
    "                ix = torch.multinomial(\n",
    "                    probas, num_samples=1, replacement=True, generator=generator\n",
    "                ).item()\n",
    "                # Adding the predicted character and shifting\n",
    "                context = context[1:] + [ix]\n",
    "                out.append(itos[ix])\n",
    "                if ix == 0:\n",
    "                    break\n",
    "                    \n",
    "            generated_names.append(''.join(out)[:-1])\n",
    "        \n",
    "        return generated_names"
   ]
  },
  {
   "cell_type": "code",
   "execution_count": 31,
   "metadata": {},
   "outputs": [
    {
     "data": {
      "application/vnd.jupyter.widget-view+json": {
       "model_id": "9f9d93535d834a75b16789d552c301ec",
       "version_major": 2,
       "version_minor": 0
      },
      "text/plain": [
       "  0%|          | 0/100 [00:00<?, ?it/s]"
      ]
     },
     "metadata": {},
     "output_type": "display_data"
    }
   ],
   "source": [
    "trigram_model = TrigramModel(\n",
    "    num_features=54, \n",
    "    num_out=27,\n",
    "    num_epochs=100, \n",
    "    learning_rate=50, \n",
    "    logging=False, \n",
    "    regularize=True, \n",
    "    smooth_strength=0.01,\n",
    ")\n",
    "\n",
    "trigram_model.fit(X_trigram, Y_trigram)"
   ]
  },
  {
   "cell_type": "code",
   "execution_count": 32,
   "metadata": {},
   "outputs": [
    {
     "data": {
      "text/plain": [
       "['ayl',\n",
       " 'ee',\n",
       " 'eahviannalizyr',\n",
       " 'uluouyra',\n",
       " 'isaynerreyana',\n",
       " 'urishlia',\n",
       " 'dyussmon',\n",
       " 'zeriel',\n",
       " 'ed',\n",
       " 'ua']"
      ]
     },
     "execution_count": 32,
     "metadata": {},
     "output_type": "execute_result"
    }
   ],
   "source": [
    "trigram_model.generate_sample(num_examples=10, itos=itos)"
   ]
  },
  {
   "cell_type": "markdown",
   "metadata": {},
   "source": [
    "## Comparision Trigram & Bigram"
   ]
  },
  {
   "cell_type": "code",
   "execution_count": 39,
   "metadata": {},
   "outputs": [
    {
     "data": {
      "image/png": "[encoded data removed]",
      "text/plain": [
       "<Figure size 640x480 with 1 Axes>"
      ]
     },
     "metadata": {},
     "output_type": "display_data"
    }
   ],
   "source": [
    "# Losses obtained during training bigram/trigram models\n",
    "loss_histories = {\n",
    "    \"Bigram\": bigram_model.history.values(),\n",
    "    \"Trigram\": trigram_model.history.values(),\n",
    "}\n",
    "\n",
    "comparison_df = pd.DataFrame(loss_histories)\n",
    "\n",
    "# Plotting the comparison\n",
    "comparison_df.plot()\n",
    "plt.xlabel(\"Epoch\")\n",
    "plt.ylabel(\"NLL Loss\")\n",
    "plt.title(\"Negative Log-Likelihood Loss Comparison\", fontsize=16)\n",
    "plt.tight_layout()\n",
    "plt.show()"
   ]
  },
  {
   "cell_type": "code",
   "execution_count": null,
   "metadata": {},
   "outputs": [],
   "source": []
  }
 ],
 "metadata": {
  "kernelspec": {
   "display_name": "Python 3",
   "language": "python",
   "name": "python3"
  },
  "language_info": {
   "codemirror_mode": {
    "name": "ipython",
    "version": 3
   },
   "file_extension": ".py",
   "mimetype": "text/x-python",
   "name": "python",
   "nbconvert_exporter": "python",
   "pygments_lexer": "ipython3",
   "version": "3.13.5"
  }
 },
 "nbformat": 4,
 "nbformat_minor": 4
}
